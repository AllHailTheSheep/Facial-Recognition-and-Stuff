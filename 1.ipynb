{
  "nbformat": 4,
  "nbformat_minor": 0,
  "metadata": {
    "colab": {
      "name": "1.ipynb",
      "provenance": [],
      "collapsed_sections": []
    },
    "kernelspec": {
      "name": "python3",
      "display_name": "Python 3"
    }
  },
  "cells": [
    {
      "cell_type": "code",
      "metadata": {
        "id": "8W8P0hphp-jV",
        "colab_type": "code",
        "colab": {}
      },
      "source": [
        "# find the sum of all multiples of 3 and 5 below 1000\n",
        "\n",
        "lst = []\n",
        "# declare range \n",
        "for i in range(1, 1000):\n",
        "  lst.append(i)\n",
        "# new list for multiples of 3 or 5\n",
        "to_sum = []\n",
        "for x in lst:\n",
        "  if x % 3 == 0 or x % 5 == 0:\n",
        "    to_sum.append(x)\n",
        "# print the sum of all elements of the list\n",
        "print(sum(to_sum))"
      ],
      "execution_count": 0,
      "outputs": []
    }
  ]
}